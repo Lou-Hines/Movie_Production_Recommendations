{
 "cells": [
  {
   "cell_type": "markdown",
   "metadata": {},
   "source": [
    "# Importing Data and Libraries"
   ]
  },
  {
   "cell_type": "code",
   "execution_count": 1,
   "metadata": {},
   "outputs": [],
   "source": [
    "import sqlite3\n",
    "import pandas as pd\n",
    "import numpy as np\n",
    "import matplotlib.pyplot as plt\n",
    "import seaborn as sns"
   ]
  },
  {
   "cell_type": "code",
   "execution_count": 2,
   "metadata": {},
   "outputs": [],
   "source": [
    "con = sqlite3.connect('data/im.db')\n",
    "cur = con.cursor()"
   ]
  },
  {
   "cell_type": "code",
   "execution_count": 3,
   "metadata": {},
   "outputs": [],
   "source": [
    "bmg = pd.read_csv('data/bom.movie_gross.csv')\n",
    "mb = pd.read_csv('data/tn.movie_budgets.csv')\n",
    "m = pd.read_csv('data/tmdb.movies.csv')"
   ]
  },
  {
   "cell_type": "code",
   "execution_count": 4,
   "metadata": {
    "scrolled": true
   },
   "outputs": [],
   "source": [
    "rv = pd.read_csv('data/rt.reviews.tsv', delimiter = '\\t', encoding = 'latin') \n",
    "# needed to change the encoding as it was throwing an error message about it\n",
    "# tsv file, so needed to add a delimiter of tab"
   ]
  },
  {
   "cell_type": "code",
   "execution_count": 5,
   "metadata": {},
   "outputs": [],
   "source": [
    "mi = pd.read_csv('data/rt.movie_info.tsv', delimiter = '\\t')"
   ]
  },
  {
   "cell_type": "code",
   "execution_count": 6,
   "metadata": {},
   "outputs": [],
   "source": [
    "imdb_rated = pd.read_csv('data/IMDB_rated_only.csv')"
   ]
  },
  {
   "cell_type": "markdown",
   "metadata": {},
   "source": [
    "# Exploring the im.db Data"
   ]
  },
  {
   "cell_type": "code",
   "execution_count": 7,
   "metadata": {
    "scrolled": false
   },
   "outputs": [
    {
     "name": "stdout",
     "output_type": "stream",
     "text": [
      "directors      movie_akas     movie_ratings  principals   \n",
      "known_for      movie_basics   persons        writers      \n"
     ]
    }
   ],
   "source": [
    "%%bash\n",
    "\n",
    "sqlite3 data/im.db\n",
    ".tables\n",
    "\n",
    "#checking the table names"
   ]
  },
  {
   "cell_type": "code",
   "execution_count": 8,
   "metadata": {},
   "outputs": [
    {
     "name": "stdout",
     "output_type": "stream",
     "text": [
      "CREATE TABLE IF NOT EXISTS \"movie_basics\" (\n",
      "\"movie_id\" TEXT,\n",
      "  \"primary_title\" TEXT,\n",
      "  \"original_title\" TEXT,\n",
      "  \"start_year\" INTEGER,\n",
      "  \"runtime_minutes\" REAL,\n",
      "  \"genres\" TEXT\n",
      ");\n",
      "CREATE TABLE IF NOT EXISTS \"directors\" (\n",
      "\"movie_id\" TEXT,\n",
      "  \"person_id\" TEXT\n",
      ");\n",
      "CREATE TABLE IF NOT EXISTS \"known_for\" (\n",
      "\"person_id\" TEXT,\n",
      "  \"movie_id\" TEXT\n",
      ");\n",
      "CREATE TABLE IF NOT EXISTS \"movie_akas\" (\n",
      "\"movie_id\" TEXT,\n",
      "  \"ordering\" INTEGER,\n",
      "  \"title\" TEXT,\n",
      "  \"region\" TEXT,\n",
      "  \"language\" TEXT,\n",
      "  \"types\" TEXT,\n",
      "  \"attributes\" TEXT,\n",
      "  \"is_original_title\" REAL\n",
      ");\n",
      "CREATE TABLE IF NOT EXISTS \"movie_ratings\" (\n",
      "\"movie_id\" TEXT,\n",
      "  \"averagerating\" REAL,\n",
      "  \"numvotes\" INTEGER\n",
      ");\n",
      "CREATE TABLE IF NOT EXISTS \"persons\" (\n",
      "\"person_id\" TEXT,\n",
      "  \"primary_name\" TEXT,\n",
      "  \"birth_year\" REAL,\n",
      "  \"death_year\" REAL,\n",
      "  \"primary_profession\" TEXT\n",
      ");\n",
      "CREATE TABLE IF NOT EXISTS \"principals\" (\n",
      "\"movie_id\" TEXT,\n",
      "  \"ordering\" INTEGER,\n",
      "  \"person_id\" TEXT,\n",
      "  \"category\" TEXT,\n",
      "  \"job\" TEXT,\n",
      "  \"characters\" TEXT\n",
      ");\n",
      "CREATE TABLE IF NOT EXISTS \"writers\" (\n",
      "\"movie_id\" TEXT,\n",
      "  \"person_id\" TEXT\n",
      ");\n"
     ]
    }
   ],
   "source": [
    "%%bash\n",
    "\n",
    "sqlite3 data/im.db\n",
    ".schema\n",
    "\n",
    "#checking schema"
   ]
  },
  {
   "cell_type": "code",
   "execution_count": 9,
   "metadata": {},
   "outputs": [
    {
     "ename": "DatabaseError",
     "evalue": "Execution failed on sql '\n    SELECT *\n    FROM \n        movie_ratings AS mr \n        INNER JOIN movie_basics AS mb\n            ON mb.movie_id = mr.movie_id\n    \n    ORDER BY \"averagerating\" DESC\n\n    LIMIT 50\n    \n': no such table: movie_ratings",
     "output_type": "error",
     "traceback": [
      "\u001b[0;31m---------------------------------------------------------------------------\u001b[0m",
      "\u001b[0;31mOperationalError\u001b[0m                          Traceback (most recent call last)",
      "\u001b[0;32m~/opt/anaconda3/envs/learn-env/lib/python3.8/site-packages/pandas/io/sql.py\u001b[0m in \u001b[0;36mexecute\u001b[0;34m(self, *args, **kwargs)\u001b[0m\n\u001b[1;32m   1680\u001b[0m         \u001b[0;32mtry\u001b[0m\u001b[0;34m:\u001b[0m\u001b[0;34m\u001b[0m\u001b[0;34m\u001b[0m\u001b[0m\n\u001b[0;32m-> 1681\u001b[0;31m             \u001b[0mcur\u001b[0m\u001b[0;34m.\u001b[0m\u001b[0mexecute\u001b[0m\u001b[0;34m(\u001b[0m\u001b[0;34m*\u001b[0m\u001b[0margs\u001b[0m\u001b[0;34m,\u001b[0m \u001b[0;34m**\u001b[0m\u001b[0mkwargs\u001b[0m\u001b[0;34m)\u001b[0m\u001b[0;34m\u001b[0m\u001b[0;34m\u001b[0m\u001b[0m\n\u001b[0m\u001b[1;32m   1682\u001b[0m             \u001b[0;32mreturn\u001b[0m \u001b[0mcur\u001b[0m\u001b[0;34m\u001b[0m\u001b[0;34m\u001b[0m\u001b[0m\n",
      "\u001b[0;31mOperationalError\u001b[0m: no such table: movie_ratings",
      "\nThe above exception was the direct cause of the following exception:\n",
      "\u001b[0;31mDatabaseError\u001b[0m                             Traceback (most recent call last)",
      "\u001b[0;32m<ipython-input-9-343ef1f7485a>\u001b[0m in \u001b[0;36m<module>\u001b[0;34m\u001b[0m\n\u001b[0;32m----> 1\u001b[0;31m query_result = pd.read_sql('''\n\u001b[0m\u001b[1;32m      2\u001b[0m     \u001b[0mSELECT\u001b[0m \u001b[0;34m*\u001b[0m\u001b[0;34m\u001b[0m\u001b[0;34m\u001b[0m\u001b[0m\n\u001b[1;32m      3\u001b[0m     \u001b[0mFROM\u001b[0m\u001b[0;34m\u001b[0m\u001b[0;34m\u001b[0m\u001b[0m\n\u001b[1;32m      4\u001b[0m         \u001b[0mmovie_ratings\u001b[0m \u001b[0mAS\u001b[0m \u001b[0mmr\u001b[0m\u001b[0;34m\u001b[0m\u001b[0;34m\u001b[0m\u001b[0m\n\u001b[1;32m      5\u001b[0m         \u001b[0mINNER\u001b[0m \u001b[0mJOIN\u001b[0m \u001b[0mmovie_basics\u001b[0m \u001b[0mAS\u001b[0m \u001b[0mmb\u001b[0m\u001b[0;34m\u001b[0m\u001b[0;34m\u001b[0m\u001b[0m\n",
      "\u001b[0;32m~/opt/anaconda3/envs/learn-env/lib/python3.8/site-packages/pandas/io/sql.py\u001b[0m in \u001b[0;36mread_sql\u001b[0;34m(sql, con, index_col, coerce_float, params, parse_dates, columns, chunksize)\u001b[0m\n\u001b[1;32m    481\u001b[0m \u001b[0;34m\u001b[0m\u001b[0m\n\u001b[1;32m    482\u001b[0m     \u001b[0;32mif\u001b[0m \u001b[0misinstance\u001b[0m\u001b[0;34m(\u001b[0m\u001b[0mpandas_sql\u001b[0m\u001b[0;34m,\u001b[0m \u001b[0mSQLiteDatabase\u001b[0m\u001b[0;34m)\u001b[0m\u001b[0;34m:\u001b[0m\u001b[0;34m\u001b[0m\u001b[0;34m\u001b[0m\u001b[0m\n\u001b[0;32m--> 483\u001b[0;31m         return pandas_sql.read_query(\n\u001b[0m\u001b[1;32m    484\u001b[0m             \u001b[0msql\u001b[0m\u001b[0;34m,\u001b[0m\u001b[0;34m\u001b[0m\u001b[0;34m\u001b[0m\u001b[0m\n\u001b[1;32m    485\u001b[0m             \u001b[0mindex_col\u001b[0m\u001b[0;34m=\u001b[0m\u001b[0mindex_col\u001b[0m\u001b[0;34m,\u001b[0m\u001b[0;34m\u001b[0m\u001b[0;34m\u001b[0m\u001b[0m\n",
      "\u001b[0;32m~/opt/anaconda3/envs/learn-env/lib/python3.8/site-packages/pandas/io/sql.py\u001b[0m in \u001b[0;36mread_query\u001b[0;34m(self, sql, index_col, coerce_float, params, parse_dates, chunksize)\u001b[0m\n\u001b[1;32m   1725\u001b[0m \u001b[0;34m\u001b[0m\u001b[0m\n\u001b[1;32m   1726\u001b[0m         \u001b[0margs\u001b[0m \u001b[0;34m=\u001b[0m \u001b[0m_convert_params\u001b[0m\u001b[0;34m(\u001b[0m\u001b[0msql\u001b[0m\u001b[0;34m,\u001b[0m \u001b[0mparams\u001b[0m\u001b[0;34m)\u001b[0m\u001b[0;34m\u001b[0m\u001b[0;34m\u001b[0m\u001b[0m\n\u001b[0;32m-> 1727\u001b[0;31m         \u001b[0mcursor\u001b[0m \u001b[0;34m=\u001b[0m \u001b[0mself\u001b[0m\u001b[0;34m.\u001b[0m\u001b[0mexecute\u001b[0m\u001b[0;34m(\u001b[0m\u001b[0;34m*\u001b[0m\u001b[0margs\u001b[0m\u001b[0;34m)\u001b[0m\u001b[0;34m\u001b[0m\u001b[0;34m\u001b[0m\u001b[0m\n\u001b[0m\u001b[1;32m   1728\u001b[0m         \u001b[0mcolumns\u001b[0m \u001b[0;34m=\u001b[0m \u001b[0;34m[\u001b[0m\u001b[0mcol_desc\u001b[0m\u001b[0;34m[\u001b[0m\u001b[0;36m0\u001b[0m\u001b[0;34m]\u001b[0m \u001b[0;32mfor\u001b[0m \u001b[0mcol_desc\u001b[0m \u001b[0;32min\u001b[0m \u001b[0mcursor\u001b[0m\u001b[0;34m.\u001b[0m\u001b[0mdescription\u001b[0m\u001b[0;34m]\u001b[0m\u001b[0;34m\u001b[0m\u001b[0;34m\u001b[0m\u001b[0m\n\u001b[1;32m   1729\u001b[0m \u001b[0;34m\u001b[0m\u001b[0m\n",
      "\u001b[0;32m~/opt/anaconda3/envs/learn-env/lib/python3.8/site-packages/pandas/io/sql.py\u001b[0m in \u001b[0;36mexecute\u001b[0;34m(self, *args, **kwargs)\u001b[0m\n\u001b[1;32m   1691\u001b[0m \u001b[0;34m\u001b[0m\u001b[0m\n\u001b[1;32m   1692\u001b[0m             \u001b[0mex\u001b[0m \u001b[0;34m=\u001b[0m \u001b[0mDatabaseError\u001b[0m\u001b[0;34m(\u001b[0m\u001b[0;34mf\"Execution failed on sql '{args[0]}': {exc}\"\u001b[0m\u001b[0;34m)\u001b[0m\u001b[0;34m\u001b[0m\u001b[0;34m\u001b[0m\u001b[0m\n\u001b[0;32m-> 1693\u001b[0;31m             \u001b[0;32mraise\u001b[0m \u001b[0mex\u001b[0m \u001b[0;32mfrom\u001b[0m \u001b[0mexc\u001b[0m\u001b[0;34m\u001b[0m\u001b[0;34m\u001b[0m\u001b[0m\n\u001b[0m\u001b[1;32m   1694\u001b[0m \u001b[0;34m\u001b[0m\u001b[0m\n\u001b[1;32m   1695\u001b[0m     \u001b[0;34m@\u001b[0m\u001b[0mstaticmethod\u001b[0m\u001b[0;34m\u001b[0m\u001b[0;34m\u001b[0m\u001b[0m\n",
      "\u001b[0;31mDatabaseError\u001b[0m: Execution failed on sql '\n    SELECT *\n    FROM \n        movie_ratings AS mr \n        INNER JOIN movie_basics AS mb\n            ON mb.movie_id = mr.movie_id\n    \n    ORDER BY \"averagerating\" DESC\n\n    LIMIT 50\n    \n': no such table: movie_ratings"
     ]
    }
   ],
   "source": [
    "query_result = pd.read_sql('''\n",
    "    SELECT *\n",
    "    FROM \n",
    "        movie_ratings AS mr \n",
    "        INNER JOIN movie_basics AS mb\n",
    "            ON mb.movie_id = mr.movie_id\n",
    "    \n",
    "    ORDER BY \"averagerating\" DESC\n",
    "\n",
    "    LIMIT 50\n",
    "    \n",
    "''', con)\n",
    "\n",
    "query_result"
   ]
  },
  {
   "cell_type": "code",
   "execution_count": null,
   "metadata": {},
   "outputs": [],
   "source": [
    "query_result = pd.read_sql('''\n",
    "    SELECT DISTINCT *\n",
    "    FROM directors, movie_akas, movie_ratings, principals,  \n",
    "          known_for, movie_basics, persons, writers \n",
    "    LIMIT 5\n",
    "''', con)\n",
    "\n",
    "query_result"
   ]
  },
  {
   "cell_type": "code",
   "execution_count": null,
   "metadata": {},
   "outputs": [],
   "source": [
    "con.close()"
   ]
  },
  {
   "cell_type": "markdown",
   "metadata": {},
   "source": [
    "# Cleaning CSV files"
   ]
  },
  {
   "cell_type": "code",
   "execution_count": null,
   "metadata": {},
   "outputs": [],
   "source": [
    "bmg = bmg.reset_index()"
   ]
  },
  {
   "cell_type": "code",
   "execution_count": null,
   "metadata": {
    "scrolled": false
   },
   "outputs": [],
   "source": [
    "bmg['foreign_gross'] = bmg['foreign_gross'].str.replace(',','')"
   ]
  },
  {
   "cell_type": "code",
   "execution_count": null,
   "metadata": {},
   "outputs": [],
   "source": [
    "bmg['foreign_gross'] = bmg['foreign_gross'].astype(float)"
   ]
  },
  {
   "cell_type": "code",
   "execution_count": null,
   "metadata": {
    "scrolled": false
   },
   "outputs": [],
   "source": [
    "mb['domestic_gross'] = mb['domestic_gross'].str.replace('$','')\n",
    "mb['domestic_gross'] = mb['domestic_gross'].str.replace(',','')\n",
    "mb['domestic_gross'] = mb['domestic_gross'].astype(int)"
   ]
  },
  {
   "cell_type": "code",
   "execution_count": null,
   "metadata": {
    "scrolled": false
   },
   "outputs": [],
   "source": [
    "mb['worldwide_gross'] = mb['worldwide_gross'].str.replace('$','')"
   ]
  },
  {
   "cell_type": "code",
   "execution_count": null,
   "metadata": {
    "scrolled": false
   },
   "outputs": [],
   "source": [
    "mb['worldwide_gross'] = mb['worldwide_gross'].str.replace(',','')"
   ]
  },
  {
   "cell_type": "code",
   "execution_count": null,
   "metadata": {},
   "outputs": [],
   "source": [
    "mb['worldwide_gross'] = mb['worldwide_gross'].astype(int)"
   ]
  },
  {
   "cell_type": "code",
   "execution_count": null,
   "metadata": {},
   "outputs": [],
   "source": [
    "mb['foreign_gross'] = mb['worldwide_gross'] - mb['domestic_gross']"
   ]
  },
  {
   "cell_type": "code",
   "execution_count": null,
   "metadata": {},
   "outputs": [],
   "source": [
    "mb['release_date'] = pd.to_datetime(mb['release_date'])"
   ]
  },
  {
   "cell_type": "code",
   "execution_count": null,
   "metadata": {},
   "outputs": [],
   "source": [
    "mb['release_year'] = mb['release_date'].dt.year"
   ]
  },
  {
   "cell_type": "code",
   "execution_count": null,
   "metadata": {},
   "outputs": [],
   "source": [
    "m['release_date'] = pd.to_datetime(m['release_date'])"
   ]
  },
  {
   "cell_type": "code",
   "execution_count": null,
   "metadata": {},
   "outputs": [],
   "source": [
    "mb['release_year'] = mb['release_date'].dt.year"
   ]
  },
  {
   "cell_type": "code",
   "execution_count": null,
   "metadata": {},
   "outputs": [],
   "source": [
    "m['release_year'] = m['release_date'].dt.year"
   ]
  },
  {
   "cell_type": "code",
   "execution_count": null,
   "metadata": {},
   "outputs": [],
   "source": [
    "print(bmg['year'].dtype)"
   ]
  },
  {
   "cell_type": "markdown",
   "metadata": {},
   "source": [
    "# Exploring the Movie Gross and Movie Budgets files"
   ]
  },
  {
   "cell_type": "code",
   "execution_count": null,
   "metadata": {},
   "outputs": [],
   "source": [
    "bmg.info()\n",
    "# looks like foreign_gross is a string when it should be an integer"
   ]
  },
  {
   "cell_type": "code",
   "execution_count": null,
   "metadata": {
    "scrolled": false
   },
   "outputs": [],
   "source": [
    "bmg.isna().sum()\n",
    "#foreign gross has a ton of null values"
   ]
  },
  {
   "cell_type": "code",
   "execution_count": null,
   "metadata": {
    "scrolled": true
   },
   "outputs": [],
   "source": [
    "mb.notna().sum()"
   ]
  },
  {
   "cell_type": "code",
   "execution_count": null,
   "metadata": {},
   "outputs": [],
   "source": [
    "mb.head()"
   ]
  },
  {
   "cell_type": "markdown",
   "metadata": {},
   "source": [
    "# Combining Data: bmg, mb, m"
   ]
  },
  {
   "cell_type": "code",
   "execution_count": null,
   "metadata": {},
   "outputs": [],
   "source": [
    "csvmerge =  m.merge(mb, how = 'left', \n",
    "                    left_on =['original_title', 'release_year'], \n",
    "                    right_on =['movie', 'release_year']).merge(bmg, how = 'left',\n",
    "                                left_on =['original_title', 'release_year'], \n",
    "                                right_on =['title', 'year'])"
   ]
  },
  {
   "cell_type": "code",
   "execution_count": null,
   "metadata": {},
   "outputs": [],
   "source": [
    "#print(m.count())\n",
    "#print(mb.count())\n",
    "#print(bmg.count())\n",
    "csvmerge.count()\n",
    "#checking to see if merge worked ok and how many rows merged well together"
   ]
  },
  {
   "cell_type": "code",
   "execution_count": null,
   "metadata": {},
   "outputs": [],
   "source": [
    "csvmerge.sample(1)"
   ]
  },
  {
   "cell_type": "code",
   "execution_count": null,
   "metadata": {},
   "outputs": [],
   "source": [
    "print(bmg.columns)\n",
    "print(csvmerge.columns)\n",
    "csvmerge.info()"
   ]
  },
  {
   "cell_type": "code",
   "execution_count": null,
   "metadata": {
    "scrolled": true
   },
   "outputs": [],
   "source": [
    "allcsvs_merged = imdb_rated.merge(csvmerge, how = 'left',\n",
    "                 left_on = ['primary_title', 'start_year'], \n",
    "                 right_on = ['movie', 'release_year']).dropna().drop_duplicates(subset = ['movie','start_year'])"
   ]
  },
  {
   "cell_type": "markdown",
   "metadata": {},
   "source": [
    "# Exploring Combined CSV tables"
   ]
  },
  {
   "cell_type": "code",
   "execution_count": null,
   "metadata": {},
   "outputs": [],
   "source": [
    "allcsvs_merged.info()"
   ]
  },
  {
   "cell_type": "code",
   "execution_count": null,
   "metadata": {},
   "outputs": [],
   "source": [
    "allcsvs_merged.tail(1)"
   ]
  },
  {
   "cell_type": "code",
   "execution_count": null,
   "metadata": {
    "scrolled": true
   },
   "outputs": [],
   "source": [
    "allcsvs_merged.shape"
   ]
  },
  {
   "cell_type": "code",
   "execution_count": null,
   "metadata": {
    "scrolled": true
   },
   "outputs": [],
   "source": [
    "allcsvs_merged.columns"
   ]
  },
  {
   "cell_type": "code",
   "execution_count": null,
   "metadata": {
    "scrolled": true
   },
   "outputs": [],
   "source": [
    "allcsvs_merged.sort_values(by='worldwide_gross')"
   ]
  },
  {
   "cell_type": "code",
   "execution_count": null,
   "metadata": {},
   "outputs": [],
   "source": [
    "allcsvs_merged.sample(4)"
   ]
  },
  {
   "cell_type": "code",
   "execution_count": null,
   "metadata": {},
   "outputs": [],
   "source": [
    "pd.set_option('display.max_rows', None)\n",
    "allcsvs_merged.sort_values(by='primary_title')"
   ]
  },
  {
   "cell_type": "code",
   "execution_count": null,
   "metadata": {},
   "outputs": [],
   "source": [
    "pd.set_option('display.max_rows', 50)"
   ]
  },
  {
   "cell_type": "code",
   "execution_count": null,
   "metadata": {
    "scrolled": true
   },
   "outputs": [],
   "source": [
    "allcsvs_merged.columns"
   ]
  },
  {
   "cell_type": "markdown",
   "metadata": {},
   "source": [
    "# Cleaning the Merged Data"
   ]
  },
  {
   "cell_type": "code",
   "execution_count": null,
   "metadata": {
    "scrolled": false
   },
   "outputs": [],
   "source": [
    "cleancm = allcsvs_merged[['title_x', 'genres', 'original_language', 'foreign_gross_x', 'foreign_gross_y', 'worldwide_gross', \n",
    "                     'release_date_x', 'domestic_gross_x', 'domestic_gross_y', \n",
    "                     'production_budget', 'popularity', 'vote_average',\n",
    "                     'vote_count', 'release_year', 'id_y', 'release_date_y',\n",
    "                       'studio',\n",
    "                      'averagerating', 'numvotes',\n",
    "                       'runtime_minutes', ]]\n",
    "cleancm.head()"
   ]
  },
  {
   "cell_type": "code",
   "execution_count": null,
   "metadata": {},
   "outputs": [],
   "source": [
    "cleancm.info()"
   ]
  },
  {
   "cell_type": "code",
   "execution_count": null,
   "metadata": {},
   "outputs": [],
   "source": [
    "cleancm.sort_values(by='foreign_gross_x', ascending=True).head(20)\n",
    "#cleancm.sort_values(by='foreign_gross_y', ascending=True).head(20)\n",
    "\n",
    "# compared foreign_gross_x values with foreign_gross_y values\n",
    "# looks like there is some bad data in both\n",
    "# Seems like there is less bad data in is foreign_gross_x\n",
    "# need to drop two rows of bad data in it, and use foreign_gross_x for visualizations"
   ]
  },
  {
   "cell_type": "code",
   "execution_count": null,
   "metadata": {},
   "outputs": [],
   "source": [
    "cleancm = cleancm.drop([67902, 37757])"
   ]
  },
  {
   "cell_type": "code",
   "execution_count": null,
   "metadata": {
    "scrolled": true
   },
   "outputs": [],
   "source": [
    "cleancm.sort_values(by='foreign_gross_x', ascending=False).head(20)"
   ]
  },
  {
   "cell_type": "markdown",
   "metadata": {},
   "source": [
    "## Making Merged DataFrame into CSV"
   ]
  },
  {
   "cell_type": "code",
   "execution_count": null,
   "metadata": {},
   "outputs": [],
   "source": [
    "cleancm.to_csv('/Users/jamiecarnevale/Documents/Flatiron/Projects/Phase 1/Movie_Production_Recommendations/Jamie/data/CSV_DB_Merge_V2.csv')"
   ]
  },
  {
   "cell_type": "markdown",
   "metadata": {},
   "source": [
    "# Further Cleaning Merged DataFrame\n",
    "- This will help me explore the data more efficiently"
   ]
  },
  {
   "cell_type": "code",
   "execution_count": null,
   "metadata": {},
   "outputs": [],
   "source": [
    "df = cleancm[['title_x', 'genres', 'original_language', 'production_budget', 'worldwide_gross', \n",
    "                     'averagerating', 'release_date_x', 'domestic_gross_x', 'foreign_gross_x',\n",
    "                      'popularity', 'vote_average', 'runtime_minutes',\n",
    "                     'vote_count', 'release_year', 'studio', 'numvotes',\n",
    "                        ]]"
   ]
  },
  {
   "cell_type": "code",
   "execution_count": null,
   "metadata": {
    "scrolled": true
   },
   "outputs": [],
   "source": [
    "df = df.rename(columns={'title_x':'Title', 'genres': 'Genres', 'original_language':'OL', \n",
    "                   'production_budget': 'PBudget', 'worldwide_gross':'WWGross', \n",
    "                     'averagerating':'AvRating', 'release_date_x':'RDate', \n",
    "                   'domestic_gross_x':'DGrossX', 'foreign_gross_x':'FGrossX',\n",
    "                      'popularity':'Pop', 'vote_average':'VoteAv', 'runtime_minutes':'RuntimeMin',\n",
    "                     'vote_count':'VoteCount', 'release_year':'RelYear', 'studio':'Studio', 'numvotes':'NumVotes'})"
   ]
  },
  {
   "cell_type": "code",
   "execution_count": null,
   "metadata": {},
   "outputs": [],
   "source": [
    "df['PBudget'] = df['PBudget'].str.replace('$','')\n",
    "df['PBudget'] = df['PBudget'].str.replace(',','')\n",
    "df['PBudget'] = df['PBudget'].astype(int)"
   ]
  },
  {
   "cell_type": "code",
   "execution_count": null,
   "metadata": {
    "scrolled": true
   },
   "outputs": [],
   "source": [
    "df['Profit'] =  df['WWGross'] - df['PBudget']"
   ]
  },
  {
   "cell_type": "code",
   "execution_count": null,
   "metadata": {},
   "outputs": [],
   "source": [
    "df = df[['Title', 'Genres', 'OL', \n",
    "                   'PBudget', 'WWGross', 'Profit',\n",
    "                     'AvRating', 'RDate', \n",
    "                   'DGrossX', 'FGrossX',\n",
    "                      'Pop', 'VoteAv', 'RuntimeMin',\n",
    "                     'VoteCount', 'RelYear', 'Studio', 'NumVotes']]"
   ]
  },
  {
   "cell_type": "code",
   "execution_count": null,
   "metadata": {},
   "outputs": [],
   "source": [
    "df['IsProfitable'] = df['Profit'] > 0"
   ]
  },
  {
   "cell_type": "code",
   "execution_count": null,
   "metadata": {
    "scrolled": true
   },
   "outputs": [],
   "source": [
    "df.sort_values(by='Profit', ascending=False).tail(10)"
   ]
  },
  {
   "cell_type": "code",
   "execution_count": null,
   "metadata": {
    "scrolled": true
   },
   "outputs": [],
   "source": [
    "df.info()"
   ]
  },
  {
   "cell_type": "code",
   "execution_count": null,
   "metadata": {
    "scrolled": true
   },
   "outputs": [],
   "source": [
    "df"
   ]
  },
  {
   "cell_type": "code",
   "execution_count": null,
   "metadata": {},
   "outputs": [],
   "source": [
    "dfexplode = df.copy()\n",
    "dfexplode['Genres'] = df['Genres'].str.split(',')\n",
    "dfexplode = dfexplode.explode('Genres')\n",
    "dfexplode"
   ]
  },
  {
   "cell_type": "code",
   "execution_count": null,
   "metadata": {
    "scrolled": false
   },
   "outputs": [],
   "source": [
    "dfexplode.head()"
   ]
  },
  {
   "cell_type": "markdown",
   "metadata": {},
   "source": [
    "# Exploring Clean Data Visually"
   ]
  },
  {
   "cell_type": "code",
   "execution_count": null,
   "metadata": {},
   "outputs": [],
   "source": [
    "#list to change variables around: \n",
    "# 'Profit','Pop','Genres','WWGross','AvRating','DGrossX','FGrossX','RuntimeMin','Studio','PBudget','IsProfitable'\n",
    "dfexplodeexplore = dfexplode[['Profit','Pop','Genres','AvRating','WWGross', 'RelYear',\n",
    "                                'RuntimeMin','IsProfitable', 'PBudget']]\n",
    "dfexplodeexplore"
   ]
  },
  {
   "cell_type": "code",
   "execution_count": null,
   "metadata": {
    "scrolled": false
   },
   "outputs": [],
   "source": [
    "sns.pairplot(dfexplodeexplore, hue='IsProfitable', plot_kws={'alpha':0.3}, palette={True:'lightblue',False:'darkred'})"
   ]
  },
  {
   "cell_type": "markdown",
   "metadata": {},
   "source": [
    "## Just looking at negative profit"
   ]
  },
  {
   "cell_type": "code",
   "execution_count": null,
   "metadata": {},
   "outputs": [],
   "source": [
    "negprofit = dfexplode[dfexplode['Profit'] < 0]\n",
    "negprofit.head()"
   ]
  },
  {
   "cell_type": "code",
   "execution_count": null,
   "metadata": {},
   "outputs": [],
   "source": [
    "negprofitexplore = negprofit[['Profit','Pop','WWGross','AvRating', 'Genres',\n",
    "                                'DGrossX','FGrossX','RuntimeMin','Studio','PBudget']]"
   ]
  },
  {
   "cell_type": "code",
   "execution_count": null,
   "metadata": {},
   "outputs": [],
   "source": [
    "sns.pairplot(negprofitexplore)"
   ]
  },
  {
   "cell_type": "markdown",
   "metadata": {},
   "source": [
    "## Looking at Genres"
   ]
  },
  {
   "cell_type": "code",
   "execution_count": null,
   "metadata": {},
   "outputs": [],
   "source": [
    "(dfexplode[df['Genres'].str.contains('Thriller')]).sort_values(by='Profit').tail(30)"
   ]
  },
  {
   "cell_type": "code",
   "execution_count": null,
   "metadata": {
    "scrolled": true
   },
   "outputs": [],
   "source": [
    "x = dfexplodeexplore['Genres'].value_counts()\n",
    "y = x[x > 20].index.tolist()\n",
    "dfexplodeexploregenres = dfexplodeexplore[dfexplodeexplore['Genres'].isin(y)]\n",
    "dfexplodeexploregenres.head(1)"
   ]
  },
  {
   "cell_type": "code",
   "execution_count": null,
   "metadata": {},
   "outputs": [],
   "source": [
    "negprofitexploregenres = dfexplodeexploregenres[dfexplodeexploregenres['Profit'] < 0]\n",
    "negprofitexploregenres.shape"
   ]
  },
  {
   "cell_type": "code",
   "execution_count": null,
   "metadata": {},
   "outputs": [],
   "source": [
    "print(dfexplodeexplore['Genres'].value_counts())"
   ]
  },
  {
   "cell_type": "code",
   "execution_count": null,
   "metadata": {},
   "outputs": [],
   "source": [
    "print(dfexplodeexploregenres['Genres'].value_counts())\n",
    "sns.catplot(data=dfexplodeexploregenres, x='Genres', y = 'Profit', kind='box', height=5, aspect=2)\n",
    "plt.xticks(rotation=90)\n",
    "plt.show()"
   ]
  },
  {
   "cell_type": "code",
   "execution_count": null,
   "metadata": {},
   "outputs": [],
   "source": [
    "columns = ['Profit','Pop','WWGross','AvRating', 'RuntimeMin']\n",
    "print(dfexplodeexploregenres['Genres'].value_counts())\n",
    "for col in columns:\n",
    "    sns.catplot(data=dfexplodeexploregenres, x='Genres', y = col, kind='box', height=5, aspect=2,)\n",
    "    plt.xticks(rotation=90)\n",
    "    plt.show()"
   ]
  },
  {
   "cell_type": "code",
   "execution_count": null,
   "metadata": {},
   "outputs": [],
   "source": [
    "dfexplodeexplore.shape"
   ]
  },
  {
   "cell_type": "code",
   "execution_count": null,
   "metadata": {},
   "outputs": [],
   "source": [
    "columns = ['Profit','Pop','WWGross','AvRating', 'RuntimeMin','Studio']\n",
    "print(negprofitexploregenres['Genres'].value_counts())\n",
    "for col in columns:\n",
    "    sns.catplot(data=negprofitexploregenres, x='Genres', y = col, kind='strip', height=5, aspect=2)\n",
    "    plt.xticks(rotation=90)\n",
    "    plt.show()"
   ]
  },
  {
   "cell_type": "markdown",
   "metadata": {},
   "source": [
    "## Lets make these graphs a bit more pretty"
   ]
  },
  {
   "cell_type": "code",
   "execution_count": null,
   "metadata": {},
   "outputs": [],
   "source": [
    "pbg = dfexplodeexploregenres.groupby('Genres')['Profit'].median().sort_values(ascending=False)\n",
    "dfexplodeexploregenres['Genres'] = pd.Categorical(dfexplodeexploregenres['Genres'], categories=pbg.index, ordered=True)\n",
    "pbg"
   ]
  },
  {
   "cell_type": "code",
   "execution_count": null,
   "metadata": {},
   "outputs": [],
   "source": [
    "dfexplodeexploregenres.groupby('Genres')['Profit'].mean().sort_values(ascending=False)\n"
   ]
  },
  {
   "cell_type": "code",
   "execution_count": null,
   "metadata": {
    "scrolled": true
   },
   "outputs": [],
   "source": [
    "pbg2 = negprofitexploregenres.groupby('Genres')['Profit'].median().sort_values()\n",
    "negprofitexploregenres['Genres'] = pd.Categorical(negprofitexploregenres['Genres'], categories=pbg2.index, ordered=True)\n",
    "pbg2"
   ]
  },
  {
   "cell_type": "code",
   "execution_count": null,
   "metadata": {},
   "outputs": [],
   "source": [
    "sns.set_theme(style='whitegrid')"
   ]
  },
  {
   "cell_type": "code",
   "execution_count": null,
   "metadata": {
    "scrolled": false
   },
   "outputs": [],
   "source": [
    "print(dfexplodeexploregenres['Genres'].value_counts())\n",
    "sns.catplot(data=dfexplodeexploregenres, x='Genres', y = 'Profit', kind='box', height=5, aspect=2, palette='viridis')\n",
    "plt.xticks(rotation=90)\n",
    "plt.title('Best Performing Genres by Profit')\n",
    "plt.show()"
   ]
  },
  {
   "cell_type": "code",
   "execution_count": null,
   "metadata": {},
   "outputs": [],
   "source": [
    "print(negprofitexploregenres['Genres'].value_counts())\n",
    "sns.catplot(data=negprofitexploregenres, x='Genres', y = 'Profit', kind='swarm', height=5, aspect=2)\n",
    "plt.title('Unprofitable Genres')\n",
    "plt.xticks(rotation=90)\n",
    "plt.show()"
   ]
  },
  {
   "cell_type": "markdown",
   "metadata": {},
   "source": [
    "# Creating a Graph that tests the Proportionality between Profitable Films and Unprofitable Films by Genre"
   ]
  },
  {
   "cell_type": "code",
   "execution_count": null,
   "metadata": {},
   "outputs": [],
   "source": [
    "#percent of IsProfitable False / IsProfitable.valuecount"
   ]
  },
  {
   "cell_type": "code",
   "execution_count": null,
   "metadata": {},
   "outputs": [],
   "source": [
    "dfexplodeexploregenres.groupby('Genres')['IsProfitable'].count()"
   ]
  },
  {
   "cell_type": "code",
   "execution_count": null,
   "metadata": {},
   "outputs": [],
   "source": [
    "x = dfexplodeexplore['Genres'].value_counts()"
   ]
  },
  {
   "cell_type": "code",
   "execution_count": null,
   "metadata": {
    "scrolled": false
   },
   "outputs": [],
   "source": [
    "\n",
    "x = dfexplodeexploregenres.groupby('Genres')['IsProfitable'].count().sort_values(ascending=False)\n",
    "y = dfexplodeexploregenres.groupby('Genres')['IsProfitable'].sum().sort_values(ascending=False)\n",
    "z = (x-y)/x\n",
    "percentprofit = z.reset_index()\n",
    "percentprofit.columns = ['Genre', 'PercentNotProfitable']\n",
    "percentprofit['PercentNotProfitable'] = percentprofit['PercentNotProfitable'] * 100\n",
    "percentprofit = percentprofit.sort_values(by='PercentNotProfitable', ascending=False)\n",
    "percentprofit"
   ]
  },
  {
   "cell_type": "code",
   "execution_count": null,
   "metadata": {
    "scrolled": false
   },
   "outputs": [],
   "source": [
    "fig, ax =plt.subplots(figsize=(16, 10))\n",
    "sns.barplot(data=percentprofit, x='Genre', y='PercentNotProfitable', order=percentprofit['Genre'], palette='viridis',ax=ax)\n",
    "print(dfexplodeexploregenres.groupby('Genres')['IsProfitable'].count())\n",
    "ax.set_title('Percent of Financially Draining Films by Genre')\n",
    "plt.xticks(rotation=90)\n",
    "plt.show()"
   ]
  },
  {
   "cell_type": "code",
   "execution_count": null,
   "metadata": {
    "scrolled": true
   },
   "outputs": [],
   "source": [
    "dfexplodeexploregenres"
   ]
  },
  {
   "cell_type": "markdown",
   "metadata": {},
   "source": [
    "# MORE DATA EXPLORATION, & DROP/RENAME/RE-ORDER COLUMNS FOR FOREIGN FOCUS"
   ]
  },
  {
   "cell_type": "code",
   "execution_count": null,
   "metadata": {},
   "outputs": [],
   "source": [
    "Lou_Merged_Data = pd.read_csv('/Users/admin/Documents/Flatiron/Movie_Production_Recommendations/Lou/data/CSV_DB_Merge_V2.csv')"
   ]
  },
  {
   "cell_type": "code",
   "execution_count": null,
   "metadata": {},
   "outputs": [],
   "source": [
    "Lou_Merged_Data['production_budget'] = Lou_Merged_Data['production_budget'].str.replace(',', '')\n",
    "Lou_Merged_Data['production_budget'] = Lou_Merged_Data['production_budget'].str.replace('$', '')\n",
    "Lou_Merged_Data['production_budget'] = Lou_Merged_Data['production_budget'].astype(float)"
   ]
  },
  {
   "cell_type": "code",
   "execution_count": null,
   "metadata": {},
   "outputs": [],
   "source": [
    "Lou_Merged_Data.drop(['Unnamed: 0', 'foreign_gross_y', 'release_date_y', 'domestic_gross_y', 'release_date_y'], axis=1, inplace=True)"
   ]
  },
  {
   "cell_type": "code",
   "execution_count": null,
   "metadata": {},
   "outputs": [],
   "source": [
    "Lou_Merged_Data.columns"
   ]
  },
  {
   "cell_type": "code",
   "execution_count": null,
   "metadata": {},
   "outputs": [],
   "source": [
    "Lou_Merged_Data['domestic_gross_x'] = Lou_Merged_Data['domestic_gross_x'].astype(float)\n",
    "Lou_Merged_Data['foreign_gross_x'] = Lou_Merged_Data['foreign_gross_x'].astype(float)"
   ]
  },
  {
   "cell_type": "code",
   "execution_count": null,
   "metadata": {},
   "outputs": [],
   "source": [
    "Lou_Merged_Data.set_index('id_y')"
   ]
  },
  {
   "cell_type": "code",
   "execution_count": null,
   "metadata": {},
   "outputs": [],
   "source": [
    "Lou_Merged_Data = Lou_Merged_Data.rename(columns={'id_y': 'id', 'title_x': 'title', 'numvotes': 'votes','release_date_x': 'release_date', \n",
    "                        'domestic_gross_x': 'domestic_gross', 'foreign_gross_x': 'foreign_gross', \n",
    "                        'averagerating': 'average_rating'})"
   ]
  },
  {
   "cell_type": "code",
   "execution_count": null,
   "metadata": {},
   "outputs": [],
   "source": [
    "Lou_Merged_Data['domestic_gross'].isna().any()"
   ]
  },
  {
   "cell_type": "code",
   "execution_count": null,
   "metadata": {},
   "outputs": [],
   "source": [
    "cols = Lou_Merged_Data.columns.tolist()\n",
    "cols"
   ]
  },
  {
   "cell_type": "code",
   "execution_count": null,
   "metadata": {},
   "outputs": [],
   "source": [
    "cols = ['id', 'title', 'genres', 'release_year', 'release_date', 'studio', 'vote_average', 'popularity','domestic_gross', 'foreign_gross', 'production_budget', 'runtime_minutes', 'average_rating', 'votes', 'worldwide_gross','original_language']  \n"
   ]
  },
  {
   "cell_type": "code",
   "execution_count": null,
   "metadata": {},
   "outputs": [],
   "source": [
    "Lou_Merged_Data = Lou_Merged_Data[cols]"
   ]
  },
  {
   "cell_type": "markdown",
   "metadata": {},
   "source": [
    "# EXPLORING FOREIGN AND DOMESTIC GROSS, CREATING FOREIGN- AND DOMESTIC-DOMINATED DATAFRAMES"
   ]
  },
  {
   "cell_type": "code",
   "execution_count": null,
   "metadata": {},
   "outputs": [],
   "source": [
    "Lou_Merged_Data['foreign_gross'].isna().sum()"
   ]
  },
  {
   "cell_type": "code",
   "execution_count": null,
   "metadata": {},
   "outputs": [],
   "source": [
    "Lou_Merged_Data['foreign_gross'].sample(100)"
   ]
  },
  {
   "cell_type": "code",
   "execution_count": null,
   "metadata": {},
   "outputs": [],
   "source": [
    "test = Lou_Merged_Data[Lou_Merged_Data['foreign_gross'] > Lou_Merged_Data['domestic_gross']]"
   ]
  },
  {
   "cell_type": "code",
   "execution_count": null,
   "metadata": {},
   "outputs": [],
   "source": [
    "foreign_gt_domestic = test"
   ]
  },
  {
   "cell_type": "code",
   "execution_count": null,
   "metadata": {},
   "outputs": [],
   "source": [
    "net = foreign_gt_domestic['worldwide_gross'] - foreign_gt_domestic['production_budget']\n",
    "\n",
    "foreign_gt_domestic['net'] = net"
   ]
  },
  {
   "cell_type": "code",
   "execution_count": null,
   "metadata": {},
   "outputs": [],
   "source": [
    "foreign_gt_domestic['net'].mean()"
   ]
  },
  {
   "cell_type": "code",
   "execution_count": null,
   "metadata": {},
   "outputs": [],
   "source": [
    "foreign_gt_domestic['net'].median()"
   ]
  },
  {
   "cell_type": "code",
   "execution_count": null,
   "metadata": {},
   "outputs": [],
   "source": [
    "foreign_gt_domestic['net'].describe()"
   ]
  },
  {
   "cell_type": "code",
   "execution_count": null,
   "metadata": {},
   "outputs": [],
   "source": [
    "net = Lou_Merged_Data['worldwide_gross'] - Lou_Merged_Data['production_budget']\n",
    "\n",
    "Lou_Merged_Data['net'] = net"
   ]
  },
  {
   "cell_type": "code",
   "execution_count": null,
   "metadata": {},
   "outputs": [],
   "source": [
    "Lou_Merged_Data['net'].mean()"
   ]
  },
  {
   "cell_type": "code",
   "execution_count": null,
   "metadata": {},
   "outputs": [],
   "source": [
    "foreign_gt_domestic['net'].mean() - Lou_Merged_Data['net'].mean()"
   ]
  },
  {
   "cell_type": "code",
   "execution_count": null,
   "metadata": {},
   "outputs": [],
   "source": [
    "domestic_gt_foreign =  Lou_Merged_Data[Lou_Merged_Data.domestic_gross.gt(Lou_Merged_Data.foreign_gross)]"
   ]
  },
  {
   "cell_type": "code",
   "execution_count": null,
   "metadata": {},
   "outputs": [],
   "source": [
    "domestic_gt_foreign['net'].describe()"
   ]
  },
  {
   "cell_type": "code",
   "execution_count": null,
   "metadata": {},
   "outputs": [],
   "source": [
    "foreign_gt_domestic.describe()"
   ]
  },
  {
   "cell_type": "code",
   "execution_count": null,
   "metadata": {},
   "outputs": [],
   "source": [
    "foreign_gt_domestic['net'].sort_values(ascending=False).sample(50)"
   ]
  },
  {
   "cell_type": "code",
   "execution_count": null,
   "metadata": {},
   "outputs": [],
   "source": [
    "Lou_Merged_Data['worldwide_gross'].describe()"
   ]
  },
  {
   "cell_type": "code",
   "execution_count": null,
   "metadata": {},
   "outputs": [],
   "source": [
    "Lou_Merged_Data['net'].sort_values(ascending=False).head(100)"
   ]
  },
  {
   "cell_type": "code",
   "execution_count": null,
   "metadata": {},
   "outputs": [],
   "source": [
    "domestic_gt_foreign =  Lou_Merged_Data[Lou_Merged_Data.domestic_gross.gt(Lou_Merged_Data.foreign_gross)]"
   ]
  },
  {
   "cell_type": "code",
   "execution_count": null,
   "metadata": {},
   "outputs": [],
   "source": [
    "domestic_gt_foreign['net'].mean()"
   ]
  },
  {
   "cell_type": "code",
   "execution_count": null,
   "metadata": {},
   "outputs": [],
   "source": [
    "domestic_gt_foreign['net'].describe()"
   ]
  },
  {
   "cell_type": "code",
   "execution_count": null,
   "metadata": {},
   "outputs": [],
   "source": [
    "big_profit_difference = foreign_gt_domestic['net'].mean() - domestic_gt_foreign['net'].mean()\n",
    "big_profit_difference"
   ]
  },
  {
   "cell_type": "code",
   "execution_count": null,
   "metadata": {},
   "outputs": [],
   "source": [
    "domestic_gt_foreign['net'].describe()"
   ]
  },
  {
   "cell_type": "code",
   "execution_count": null,
   "metadata": {},
   "outputs": [],
   "source": [
    "foreign_vs_domestic = Lou_Merged_Data.foreign_gross.gt(Lou_Merged_Data.domestic_gross)\n",
    "\n",
    "Lou_Merged_Data['foreign_vs_domestic'] = foreign_vs_domestic \n",
    "\n",
    "Lou_Merged_Data['foreign_vs_domestic']"
   ]
  },
  {
   "cell_type": "markdown",
   "metadata": {},
   "source": [
    "# PLOTTING FOREIGN GROSS-DOMINATED VS DOMESTIC-GROSS DOMINATED"
   ]
  },
  {
   "cell_type": "code",
   "execution_count": null,
   "metadata": {},
   "outputs": [],
   "source": [
    "sns.pairplot(Lou_Merged_Data, corner = True)\n",
    "plt.show()"
   ]
  },
  {
   "cell_type": "code",
   "execution_count": null,
   "metadata": {},
   "outputs": [],
   "source": [
    "sns.pairplot(foreign_gt_domestic, corner=True)"
   ]
  },
  {
   "cell_type": "code",
   "execution_count": null,
   "metadata": {},
   "outputs": [],
   "source": [
    "sns.PairGrid(Lou_Merged_Data, hue='foreign_gross', palette='hls').map(sns.scatterplot)\n",
    "plt.show()"
   ]
  },
  {
   "cell_type": "code",
   "execution_count": null,
   "metadata": {},
   "outputs": [],
   "source": [
    "\n",
    "sns.lmplot(x=\"domestic_gross\", y=\"net\", line_kws={\"color\": \"C1\"}, data=Lou_Merged_Data, x_estimator=np.mean)\n",
    "sns.lmplot(x=\"foreign_gross\", y=\"net\", line_kws={\"color\": \"C1\"}, data=Lou_Merged_Data, x_estimator=np.mean)\n"
   ]
  },
  {
   "cell_type": "code",
   "execution_count": null,
   "metadata": {},
   "outputs": [],
   "source": [
    "fig, ax = plt.subplots(figsize=(12,7))\n",
    "sns.scatterplot(x='worldwide_gross', y='net', hue='foreign_vs_domestic', data=Lou_Merged_Data)\n",
    "plt.show()\n",
    "ax.set_xlabel = 'World Gross'\n",
    "ax.set_ylabel = 'Profit'\n",
    "ax.set_title = 'Profits by Foreign- and Domestic-Dominated Gross'\n"
   ]
  },
  {
   "cell_type": "code",
   "execution_count": null,
   "metadata": {},
   "outputs": [],
   "source": [
    "g = sns.catplot(\n",
    "    data=Lou_Merged_Data, kind=\"bar\",\n",
    "    x='foreign_vs_domestic', y=\"net\",\n",
    "    palette=\"dark\", alpha=.6, height=6\n",
    ").set(title='Profits by Foreign-Dominated Sales')\n",
    "g.despine(left=True)\n",
    "g.set_axis_labels(\"\", \"Profits (in Billions)\")\n"
   ]
  },
  {
   "cell_type": "code",
   "execution_count": null,
   "metadata": {},
   "outputs": [],
   "source": [
    "foreign_gt_domestic['genre_list'] = foreign_gt_domestic.genres.str.split(\",\")\n",
    "\n",
    "foreign_gt_domestic"
   ]
  },
  {
   "cell_type": "code",
   "execution_count": null,
   "metadata": {},
   "outputs": [],
   "source": [
    "foreign_gt_domestic['genre_list'].dropna(inplace=True)"
   ]
  },
  {
   "cell_type": "code",
   "execution_count": null,
   "metadata": {},
   "outputs": [],
   "source": [
    "exploded_genres = foreign_gt_domestic.explode('genre_list')\n",
    "exploded_genres "
   ]
  },
  {
   "cell_type": "code",
   "execution_count": null,
   "metadata": {},
   "outputs": [],
   "source": [
    "fig, ax = plt.subplots(figsize=(15,7))\n",
    "\n",
    "sns.boxplot(x='genre_list', y='net', data=exploded_genres)\n",
    "plt.xticks(rotation=90)\n",
    "plt.show()"
   ]
  },
  {
   "cell_type": "code",
   "execution_count": null,
   "metadata": {},
   "outputs": [],
   "source": [
    "top_genres = exploded_genres.loc[(exploded_genres['genre_list'] == 'Action') | \n",
    "                                 (exploded_genres['genre_list'] == 'Adventure')|\n",
    "                                 (exploded_genres['genre_list'] == 'Animation')|\n",
    "                                 (exploded_genres['genre_list'] == 'Sci-Fi')|\n",
    "                                 (exploded_genres['genre_list'] == 'Comedy')|\n",
    "                                 (exploded_genres['genre_list'] == 'Family')\n",
    "                                ]\n"
   ]
  },
  {
   "cell_type": "code",
   "execution_count": null,
   "metadata": {},
   "outputs": [],
   "source": [
    "sns.barplot(x='genre_list', y = 'net', data=top_genres)\n",
    "plt.show()"
   ]
  },
  {
   "cell_type": "code",
   "execution_count": null,
   "metadata": {},
   "outputs": [],
   "source": [
    "genre_net = pd.DataFrame().assign(Genres=exploded_genres['genre_list'], Net=exploded_genres['net'])\n",
    "genre_net"
   ]
  },
  {
   "cell_type": "markdown",
   "metadata": {},
   "source": [
    "# LOOKING AT TOP GENRES BY PARTICULAR GENRE COMBINATIONS"
   ]
  },
  {
   "cell_type": "code",
   "execution_count": null,
   "metadata": {},
   "outputs": [],
   "source": [
    "exploded_families = exploded_genres.loc[exploded_genres['genre_list'] == 'Family']"
   ]
  },
  {
   "cell_type": "code",
   "execution_count": null,
   "metadata": {},
   "outputs": [],
   "source": [
    "exploded_families['genres'].value_counts()"
   ]
  },
  {
   "cell_type": "code",
   "execution_count": null,
   "metadata": {},
   "outputs": [],
   "source": [
    "net_exploded_families = exploded_families['genres'].groupby(exploded_families['net']).sum().tail(5)\n",
    "net_exploded_families"
   ]
  },
  {
   "cell_type": "code",
   "execution_count": null,
   "metadata": {},
   "outputs": [],
   "source": [
    "exploded_action = exploded_genres.loc[exploded_genres['genre_list'] == 'Action']"
   ]
  },
  {
   "cell_type": "code",
   "execution_count": null,
   "metadata": {},
   "outputs": [],
   "source": [
    "net_exploded_action = exploded_action['genres'].groupby(exploded_action['net']).sum().tail(5)\n",
    "net_exploded_action"
   ]
  },
  {
   "cell_type": "code",
   "execution_count": null,
   "metadata": {},
   "outputs": [],
   "source": [
    "test3 = Lou_Merged_Data.loc[Lou_Merged_Data['genres'] == 'Action,Adventure,Sci-Fi']\n",
    "test3['net'].sort_values(ascending=False)"
   ]
  },
  {
   "cell_type": "code",
   "execution_count": null,
   "metadata": {},
   "outputs": [],
   "source": [
    "exploded_adventure = exploded_genres.loc[exploded_genres['genre_list'] == 'Adventure']"
   ]
  },
  {
   "cell_type": "code",
   "execution_count": null,
   "metadata": {},
   "outputs": [],
   "source": [
    "net_exploded_adventure = exploded_adventure['genres'].groupby(exploded_action['net']).sum().tail(5)\n",
    "net_exploded_adventure"
   ]
  },
  {
   "cell_type": "code",
   "execution_count": null,
   "metadata": {},
   "outputs": [],
   "source": [
    "exploded_animation = exploded_genres.loc[exploded_genres['genre_list'] == 'Animation']\n",
    "exploded_sci_fi = exploded_genres.loc[exploded_genres['genre_list'] == 'Sci-Fi']\n",
    "exploded_comedy = exploded_genres.loc[exploded_genres['genre_list'] == 'Comedy']\n",
    "net_exploded_animation = exploded_animation['genres'].groupby(exploded_action['net']).sum().tail(5)\n",
    "net_exploded_sci_fi = exploded_sci_fi['genres'].groupby(exploded_sci_fi['net']).sum().tail(5)\n",
    "net_exploded_comedy = exploded_sci_fi['genres'].groupby(exploded_comedy['net']).sum().tail(5)"
   ]
  },
  {
   "cell_type": "code",
   "execution_count": null,
   "metadata": {},
   "outputs": [],
   "source": [
    "net_exploded_animation"
   ]
  },
  {
   "cell_type": "code",
   "execution_count": null,
   "metadata": {},
   "outputs": [],
   "source": [
    "net_exploded_sci_fi"
   ]
  },
  {
   "cell_type": "code",
   "execution_count": null,
   "metadata": {},
   "outputs": [],
   "source": [
    "net_exploded_comedy"
   ]
  },
  {
   "cell_type": "code",
   "execution_count": null,
   "metadata": {},
   "outputs": [],
   "source": [
    "exploded_genres['genre_list'].value_counts()"
   ]
  },
  {
   "cell_type": "code",
   "execution_count": null,
   "metadata": {},
   "outputs": [],
   "source": [
    "AAA  = foreign_gt_domestic.loc[foreign_gt_domestic['genres'] == 'Action,Adventure,Animation']"
   ]
  },
  {
   "cell_type": "code",
   "execution_count": null,
   "metadata": {},
   "outputs": [],
   "source": [
    "AAS  = foreign_gt_domestic.loc[foreign_gt_domestic['genres'] == 'Action,Adventure,Sci-Fi']\n",
    "AAS"
   ]
  },
  {
   "cell_type": "code",
   "execution_count": null,
   "metadata": {},
   "outputs": [],
   "source": [
    "top_genre_combos = foreign_gt_domestic.copy()"
   ]
  },
  {
   "cell_type": "code",
   "execution_count": null,
   "metadata": {},
   "outputs": [],
   "source": [
    "top_genre_combos = top_genre_combos.loc[(top_genre_combos['genres'] == 'Action,Adventure,Sci-Fi') | \n",
    "                     (top_genre_combos['genres'] == 'Action,Comedy,Sci-Fi') | \n",
    "                     (top_genre_combos['genres'] == 'Action,Adventure,Animation') | \n",
    "                     (top_genre_combos['genres'] == 'Adventure,Family,Fantasy')]\n",
    "top_genre_combos['genres'].value_counts()"
   ]
  },
  {
   "cell_type": "code",
   "execution_count": null,
   "metadata": {},
   "outputs": [],
   "source": [
    "fig, ax = plt.subplots(figsize=(15,7))\n",
    "sns.barplot(x='genres', y='net', data=top_genre_combos)\n",
    "plt.show()"
   ]
  }
 ],
 "metadata": {
  "kernelspec": {
   "display_name": "Python (learn-env)",
   "language": "python",
   "name": "learn-env"
  },
  "language_info": {
   "codemirror_mode": {
    "name": "ipython",
    "version": 3
   },
   "file_extension": ".py",
   "mimetype": "text/x-python",
   "name": "python",
   "nbconvert_exporter": "python",
   "pygments_lexer": "ipython3",
   "version": "3.8.5"
  }
 },
 "nbformat": 4,
 "nbformat_minor": 4
}
