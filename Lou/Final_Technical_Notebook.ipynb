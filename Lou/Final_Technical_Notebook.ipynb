{
 "cells": [
  {
   "cell_type": "code",
   "execution_count": null,
   "metadata": {},
   "outputs": [],
   "source": [
    "#background info"
   ]
  },
  {
   "cell_type": "code",
   "execution_count": null,
   "metadata": {},
   "outputs": [],
   "source": [
    "#import "
   ]
  },
  {
   "cell_type": "code",
   "execution_count": null,
   "metadata": {},
   "outputs": [],
   "source": [
    "#clean "
   ]
  },
  {
   "cell_type": "code",
   "execution_count": null,
   "metadata": {},
   "outputs": [],
   "source": [
    "#look at genres broadly"
   ]
  },
  {
   "cell_type": "code",
   "execution_count": null,
   "metadata": {},
   "outputs": [],
   "source": [
    "#look at foreign"
   ]
  },
  {
   "cell_type": "markdown",
   "metadata": {},
   "source": [
    "# Importance of Foreign Market!\n",
    "\n",
    "## Non-US Box Office was 2/3 of the world total! That's a 10 billion market*\n",
    "## China is the leader!\n",
    "\n",
    "\n",
    "*in 2021, per Statista https://www.statista.com/statistics/243180/leading-box-office-markets-workdwide-by-revenue/\n"
   ]
  },
  {
   "cell_type": "code",
   "execution_count": null,
   "metadata": {},
   "outputs": [],
   "source": []
  },
  {
   "cell_type": "code",
   "execution_count": null,
   "metadata": {},
   "outputs": [],
   "source": [
    "\n",
    "# When looking at data, important to look at specific compostions. Can't just look at totals!\n",
    "# When the Foreign Gross outperformed Domestic Gross, the Profits were much higher! ? Higher, \n",
    "# on average\n",
    "# What can we say about these films? Most important factor is genre\n",
    "# Look at top genres individually, and notice some patterns\n",
    "# Then we look at the particular combinations of genres!\n",
    "# We are then reasonably able to predict which ones will make the most money\n",
    "# IF TIME, ? Time-based trends?\n",
    "# Further recommendations: look at particular studios, directors, actors.\n"
   ]
  }
 ],
 "metadata": {
  "kernelspec": {
   "display_name": "Python 3",
   "language": "python",
   "name": "python3"
  },
  "language_info": {
   "codemirror_mode": {
    "name": "ipython",
    "version": 3
   },
   "file_extension": ".py",
   "mimetype": "text/x-python",
   "name": "python",
   "nbconvert_exporter": "python",
   "pygments_lexer": "ipython3",
   "version": "3.8.5"
  }
 },
 "nbformat": 4,
 "nbformat_minor": 4
}
