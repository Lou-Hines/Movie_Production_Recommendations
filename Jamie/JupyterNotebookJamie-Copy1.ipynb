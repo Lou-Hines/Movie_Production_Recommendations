{
 "cells": [
  {
   "cell_type": "markdown",
   "metadata": {},
   "source": [
    "# Importing Data and Libraries"
   ]
  },
  {
   "cell_type": "code",
   "execution_count": null,
   "metadata": {},
   "outputs": [],
   "source": [
    "import sqlite3\n",
    "import pandas as pd\n",
    "import numpy as np\n",
    "import matplotlib.pyplot as plt\n",
    "import seaborn as sns"
   ]
  },
  {
   "cell_type": "code",
   "execution_count": null,
   "metadata": {},
   "outputs": [],
   "source": [
    "con = sqlite3.connect('data/im.db')\n",
    "cur = con.cursor()"
   ]
  },
  {
   "cell_type": "code",
   "execution_count": null,
   "metadata": {},
   "outputs": [],
   "source": [
    "bmg = pd.read_csv('data/bom.movie_gross.csv')\n",
    "mb = pd.read_csv('data/tn.movie_budgets.csv')\n",
    "m = pd.read_csv('data/tmdb.movies.csv')"
   ]
  },
  {
   "cell_type": "code",
   "execution_count": null,
   "metadata": {
    "scrolled": true
   },
   "outputs": [],
   "source": [
    "rv = pd.read_csv('data/rt.reviews.tsv', delimiter = '\\t', encoding = 'latin') \n",
    "# needed to change the encoding as it was throwing an error message about it\n",
    "# tsv file, so needed to add a delimiter of tab"
   ]
  },
  {
   "cell_type": "code",
   "execution_count": null,
   "metadata": {},
   "outputs": [],
   "source": [
    "mi = pd.read_csv('data/rt.movie_info.tsv', delimiter = '\\t')"
   ]
  },
  {
   "cell_type": "code",
   "execution_count": null,
   "metadata": {},
   "outputs": [],
   "source": [
    "imdb_rated = pd.read_csv('data/IMDB_rated_only.csv')"
   ]
  },
  {
   "cell_type": "markdown",
   "metadata": {},
   "source": [
    "# Exploring the im.db Data"
   ]
  },
  {
   "cell_type": "code",
   "execution_count": null,
   "metadata": {
    "scrolled": false
   },
   "outputs": [],
   "source": [
    "%%bash\n",
    "\n",
    "sqlite3 data/im.db\n",
    ".tables\n",
    "\n",
    "#checking the table names"
   ]
  },
  {
   "cell_type": "code",
   "execution_count": null,
   "metadata": {},
   "outputs": [],
   "source": [
    "%%bash\n",
    "\n",
    "sqlite3 data/im.db\n",
    ".schema\n",
    "\n",
    "#checking schema"
   ]
  },
  {
   "cell_type": "code",
   "execution_count": null,
   "metadata": {},
   "outputs": [],
   "source": [
    "query_result = pd.read_sql('''\n",
    "    SELECT *\n",
    "    FROM \n",
    "        movie_ratings AS mr \n",
    "        INNER JOIN movie_basics AS mb\n",
    "            ON mb.movie_id = mr.movie_id\n",
    "    \n",
    "    ORDER BY \"averagerating\" DESC\n",
    "\n",
    "    LIMIT 50\n",
    "    \n",
    "''', con)\n",
    "\n",
    "query_result"
   ]
  },
  {
   "cell_type": "code",
   "execution_count": null,
   "metadata": {},
   "outputs": [],
   "source": [
    "query_result = pd.read_sql('''\n",
    "    SELECT DISTINCT *\n",
    "    FROM directors, movie_akas, movie_ratings, principals,  \n",
    "          known_for, movie_basics, persons, writers \n",
    "    LIMIT 5\n",
    "''', con)\n",
    "\n",
    "query_result"
   ]
  },
  {
   "cell_type": "code",
   "execution_count": null,
   "metadata": {},
   "outputs": [],
   "source": [
    "con.close()"
   ]
  },
  {
   "cell_type": "markdown",
   "metadata": {},
   "source": [
    "# Cleaning CSV files"
   ]
  },
  {
   "cell_type": "code",
   "execution_count": null,
   "metadata": {},
   "outputs": [],
   "source": [
    "bmg = bmg.reset_index()"
   ]
  },
  {
   "cell_type": "code",
   "execution_count": null,
   "metadata": {
    "scrolled": false
   },
   "outputs": [],
   "source": [
    "bmg['foreign_gross'] = bmg['foreign_gross'].str.replace(',','')"
   ]
  },
  {
   "cell_type": "code",
   "execution_count": null,
   "metadata": {},
   "outputs": [],
   "source": [
    "bmg['foreign_gross'] = bmg['foreign_gross'].astype(float)"
   ]
  },
  {
   "cell_type": "code",
   "execution_count": null,
   "metadata": {
    "scrolled": false
   },
   "outputs": [],
   "source": [
    "mb['domestic_gross'] = mb['domestic_gross'].str.replace('$','')\n",
    "mb['domestic_gross'] = mb['domestic_gross'].str.replace(',','')\n",
    "mb['domestic_gross'] = mb['domestic_gross'].astype(int)"
   ]
  },
  {
   "cell_type": "code",
   "execution_count": null,
   "metadata": {
    "scrolled": false
   },
   "outputs": [],
   "source": [
    "mb['worldwide_gross'] = mb['worldwide_gross'].str.replace('$','')"
   ]
  },
  {
   "cell_type": "code",
   "execution_count": null,
   "metadata": {
    "scrolled": false
   },
   "outputs": [],
   "source": [
    "mb['worldwide_gross'] = mb['worldwide_gross'].str.replace(',','')"
   ]
  },
  {
   "cell_type": "code",
   "execution_count": null,
   "metadata": {},
   "outputs": [],
   "source": [
    "mb['worldwide_gross'] = mb['worldwide_gross'].astype(int)"
   ]
  },
  {
   "cell_type": "code",
   "execution_count": null,
   "metadata": {},
   "outputs": [],
   "source": [
    "mb['foreign_gross'] = mb['worldwide_gross'] - mb['domestic_gross']"
   ]
  },
  {
   "cell_type": "code",
   "execution_count": null,
   "metadata": {},
   "outputs": [],
   "source": [
    "mb['release_date'] = pd.to_datetime(mb['release_date'])"
   ]
  },
  {
   "cell_type": "code",
   "execution_count": null,
   "metadata": {},
   "outputs": [],
   "source": [
    "mb['release_year'] = mb['release_date'].dt.year"
   ]
  },
  {
   "cell_type": "code",
   "execution_count": null,
   "metadata": {},
   "outputs": [],
   "source": [
    "m['release_date'] = pd.to_datetime(m['release_date'])"
   ]
  },
  {
   "cell_type": "code",
   "execution_count": null,
   "metadata": {},
   "outputs": [],
   "source": [
    "mb['release_year'] = mb['release_date'].dt.year"
   ]
  },
  {
   "cell_type": "code",
   "execution_count": null,
   "metadata": {},
   "outputs": [],
   "source": [
    "m['release_year'] = m['release_date'].dt.year"
   ]
  },
  {
   "cell_type": "code",
   "execution_count": null,
   "metadata": {},
   "outputs": [],
   "source": [
    "print(bmg['year'].dtype)"
   ]
  },
  {
   "cell_type": "markdown",
   "metadata": {},
   "source": [
    "# Exploring the Movie Gross file"
   ]
  },
  {
   "cell_type": "code",
   "execution_count": null,
   "metadata": {},
   "outputs": [],
   "source": [
    "bmg.info()\n",
    "# looks like foreign_gross is a string when it should be an integer"
   ]
  },
  {
   "cell_type": "code",
   "execution_count": null,
   "metadata": {
    "scrolled": false
   },
   "outputs": [],
   "source": [
    "bmg.isna().sum()\n",
    "#foreign gross has a ton of null values"
   ]
  },
  {
   "cell_type": "code",
   "execution_count": null,
   "metadata": {
    "scrolled": true
   },
   "outputs": [],
   "source": [
    "mb.notna().sum()"
   ]
  },
  {
   "cell_type": "markdown",
   "metadata": {},
   "source": [
    "# Exploring Movie Budgets file"
   ]
  },
  {
   "cell_type": "code",
   "execution_count": null,
   "metadata": {},
   "outputs": [],
   "source": [
    "mb.head()"
   ]
  },
  {
   "cell_type": "markdown",
   "metadata": {},
   "source": [
    "# Combining Data: bmg, mb, m"
   ]
  },
  {
   "cell_type": "code",
   "execution_count": null,
   "metadata": {},
   "outputs": [],
   "source": [
    "# tried this out mbm = m.merge(mb, how = 'left', left_on =['original_title', 'release_date'], right_on =['movie', 'release_date'])"
   ]
  },
  {
   "cell_type": "code",
   "execution_count": null,
   "metadata": {},
   "outputs": [],
   "source": [
    "#tried this out csvmerge = mbm.merge(bmg, how = 'left', left_on =['original_title', 'release_year'], right_on =['title', 'year'])"
   ]
  },
  {
   "cell_type": "code",
   "execution_count": null,
   "metadata": {},
   "outputs": [],
   "source": [
    "csvmerge =  m.merge(mb, how = 'left', \n",
    "                    left_on =['original_title', 'release_year'], \n",
    "                    right_on =['movie', 'release_year']).merge(bmg, how = 'left',\n",
    "                                left_on =['original_title', 'release_year'], \n",
    "                                right_on =['title', 'year'])"
   ]
  },
  {
   "cell_type": "code",
   "execution_count": null,
   "metadata": {},
   "outputs": [],
   "source": [
    "#print(m.count())\n",
    "#print(mb.count())\n",
    "#print(bmg.count())\n",
    "csvmerge.count()\n",
    "#checking to see if merge worked ok and how many rows merged well together"
   ]
  },
  {
   "cell_type": "code",
   "execution_count": null,
   "metadata": {},
   "outputs": [],
   "source": [
    "csvmerge.tail(1)"
   ]
  },
  {
   "cell_type": "code",
   "execution_count": null,
   "metadata": {},
   "outputs": [],
   "source": [
    "print(bmg.columns)\n",
    "print(csvmerge.columns)\n",
    "csvmerge.info()"
   ]
  },
  {
   "cell_type": "code",
   "execution_count": null,
   "metadata": {
    "scrolled": true
   },
   "outputs": [],
   "source": [
    "allcsvs_merged = imdb_rated.merge(csvmerge, how = 'left',\n",
    "                 left_on = ['primary_title', 'start_year'], \n",
    "                 right_on = ['movie', 'release_year']).dropna().drop_duplicates(subset = ['movie','start_year'])"
   ]
  },
  {
   "cell_type": "markdown",
   "metadata": {},
   "source": [
    "# Exploring Combined CSV tables"
   ]
  },
  {
   "cell_type": "code",
   "execution_count": null,
   "metadata": {},
   "outputs": [],
   "source": [
    "allcsvs_merged.info()"
   ]
  },
  {
   "cell_type": "code",
   "execution_count": null,
   "metadata": {},
   "outputs": [],
   "source": [
    "allcsvs_merged.tail(1)"
   ]
  },
  {
   "cell_type": "code",
   "execution_count": null,
   "metadata": {
    "scrolled": true
   },
   "outputs": [],
   "source": [
    "allcsvs_merged.shape"
   ]
  },
  {
   "cell_type": "code",
   "execution_count": null,
   "metadata": {
    "scrolled": true
   },
   "outputs": [],
   "source": [
    "allcsvs_merged.columns"
   ]
  },
  {
   "cell_type": "code",
   "execution_count": null,
   "metadata": {
    "scrolled": true
   },
   "outputs": [],
   "source": [
    "allcsvs_merged.sort_values(by='worldwide_gross')"
   ]
  },
  {
   "cell_type": "code",
   "execution_count": null,
   "metadata": {},
   "outputs": [],
   "source": [
    "allcsvs_merged.sample(4)"
   ]
  },
  {
   "cell_type": "code",
   "execution_count": null,
   "metadata": {},
   "outputs": [],
   "source": [
    "pd.set_option('display.max_rows', None)\n",
    "allcsvs_merged.sort_values(by='primary_title')"
   ]
  },
  {
   "cell_type": "code",
   "execution_count": null,
   "metadata": {},
   "outputs": [],
   "source": [
    "pd.set_option('display.max_rows', 50)"
   ]
  },
  {
   "cell_type": "code",
   "execution_count": null,
   "metadata": {
    "scrolled": true
   },
   "outputs": [],
   "source": [
    "allcsvs_merged.columns"
   ]
  },
  {
   "cell_type": "markdown",
   "metadata": {},
   "source": [
    "# Cleaning the Merged Data"
   ]
  },
  {
   "cell_type": "code",
   "execution_count": null,
   "metadata": {
    "scrolled": false
   },
   "outputs": [],
   "source": [
    "cleancm = allcsvs_merged[['title_x', 'genres', 'original_language', 'foreign_gross_x', 'foreign_gross_y', 'worldwide_gross', \n",
    "                     'release_date_x', 'domestic_gross_x', 'domestic_gross_y', \n",
    "                     'production_budget', 'popularity', 'vote_average',\n",
    "                     'vote_count', 'release_year', 'id_y', 'release_date_y',\n",
    "                       'studio',\n",
    "                      'averagerating', 'numvotes',\n",
    "                       'runtime_minutes', ]]\n",
    "cleancm.head()"
   ]
  },
  {
   "cell_type": "code",
   "execution_count": null,
   "metadata": {},
   "outputs": [],
   "source": [
    "cleancm.info()"
   ]
  },
  {
   "cell_type": "code",
   "execution_count": null,
   "metadata": {},
   "outputs": [],
   "source": [
    "cleancm.sort_values(by='foreign_gross_x', ascending=True).head(20)\n",
    "#cleancm.sort_values(by='foreign_gross_y', ascending=True).head(20)\n",
    "\n",
    "# compared foreign_gross_x values with foreign_gross_y values\n",
    "# looks like there is some bad data in both\n",
    "# Seems like there is less bad data in is foreign_gross_x\n",
    "# need to drop two rows of bad data in it, and use foreign_gross_x for visualizations"
   ]
  },
  {
   "cell_type": "code",
   "execution_count": null,
   "metadata": {},
   "outputs": [],
   "source": [
    "cleancm = cleancm.drop([67902, 37757])"
   ]
  },
  {
   "cell_type": "code",
   "execution_count": null,
   "metadata": {
    "scrolled": true
   },
   "outputs": [],
   "source": [
    "cleancm.sort_values(by='foreign_gross_x', ascending=False).head(20)"
   ]
  },
  {
   "cell_type": "markdown",
   "metadata": {},
   "source": [
    "## Making Merged DataFrame into CSV"
   ]
  },
  {
   "cell_type": "code",
   "execution_count": null,
   "metadata": {},
   "outputs": [],
   "source": [
    "cleancm.to_csv('/Users/jamiecarnevale/Documents/Flatiron/Projects/Phase 1/Movie_Production_Recommendations/Jamie/data/CSV_DB_Merge_V2.csv')"
   ]
  },
  {
   "cell_type": "markdown",
   "metadata": {},
   "source": [
    "# Further Cleaning Merged DataFrame\n",
    "- This will help me explore the data more efficiently"
   ]
  },
  {
   "cell_type": "code",
   "execution_count": null,
   "metadata": {},
   "outputs": [],
   "source": [
    "df = cleancm[['title_x', 'genres', 'original_language', 'production_budget', 'worldwide_gross', \n",
    "                     'averagerating', 'release_date_x', 'domestic_gross_x', 'foreign_gross_x',\n",
    "                      'popularity', 'vote_average', 'runtime_minutes',\n",
    "                     'vote_count', 'release_year', 'studio', 'numvotes',\n",
    "                        ]]"
   ]
  },
  {
   "cell_type": "code",
   "execution_count": null,
   "metadata": {
    "scrolled": true
   },
   "outputs": [],
   "source": [
    "df = df.rename(columns={'title_x':'Title', 'genres': 'Genres', 'original_language':'OL', \n",
    "                   'production_budget': 'PBudget', 'worldwide_gross':'WWGross', \n",
    "                     'averagerating':'AvRating', 'release_date_x':'RDate', \n",
    "                   'domestic_gross_x':'DGrossX', 'foreign_gross_x':'FGrossX',\n",
    "                      'popularity':'Pop', 'vote_average':'VoteAv', 'runtime_minutes':'RuntimeMin',\n",
    "                     'vote_count':'VoteCount', 'release_year':'RelYear', 'studio':'Studio', 'numvotes':'NumVotes'})"
   ]
  },
  {
   "cell_type": "code",
   "execution_count": null,
   "metadata": {},
   "outputs": [],
   "source": [
    "df['PBudget'] = df['PBudget'].str.replace('$','')\n",
    "df['PBudget'] = df['PBudget'].str.replace(',','')\n",
    "df['PBudget'] = df['PBudget'].astype(int)"
   ]
  },
  {
   "cell_type": "code",
   "execution_count": null,
   "metadata": {
    "scrolled": true
   },
   "outputs": [],
   "source": [
    "df['Profit'] =  df['WWGross'] - df['PBudget']"
   ]
  },
  {
   "cell_type": "code",
   "execution_count": null,
   "metadata": {},
   "outputs": [],
   "source": [
    "df = df[['Title', 'Genres', 'OL', \n",
    "                   'PBudget', 'WWGross', 'Profit',\n",
    "                     'AvRating', 'RDate', \n",
    "                   'DGrossX', 'FGrossX',\n",
    "                      'Pop', 'VoteAv', 'RuntimeMin',\n",
    "                     'VoteCount', 'RelYear', 'Studio', 'NumVotes']]"
   ]
  },
  {
   "cell_type": "code",
   "execution_count": null,
   "metadata": {},
   "outputs": [],
   "source": [
    "df['IsProfitable'] = df['Profit'] > 0"
   ]
  },
  {
   "cell_type": "code",
   "execution_count": null,
   "metadata": {
    "scrolled": true
   },
   "outputs": [],
   "source": [
    "df.sort_values(by='Profit', ascending=False).tail(10)"
   ]
  },
  {
   "cell_type": "code",
   "execution_count": null,
   "metadata": {
    "scrolled": true
   },
   "outputs": [],
   "source": [
    "df.info()"
   ]
  },
  {
   "cell_type": "code",
   "execution_count": null,
   "metadata": {
    "scrolled": true
   },
   "outputs": [],
   "source": [
    "df"
   ]
  },
  {
   "cell_type": "code",
   "execution_count": null,
   "metadata": {},
   "outputs": [],
   "source": [
    "dfexplode = df.copy()\n",
    "dfexplode['Genres'] = df['Genres'].str.split(',')\n",
    "dfexplode = dfexplode.explode('Genres')\n",
    "dfexplode"
   ]
  },
  {
   "cell_type": "code",
   "execution_count": null,
   "metadata": {
    "scrolled": false
   },
   "outputs": [],
   "source": [
    "dfexplode.head()"
   ]
  },
  {
   "cell_type": "markdown",
   "metadata": {},
   "source": [
    "# Exploring Clean Data Visually"
   ]
  },
  {
   "cell_type": "code",
   "execution_count": null,
   "metadata": {},
   "outputs": [],
   "source": [
    "#list to change variables around: \n",
    "# 'Profit','Pop','Genres','WWGross','AvRating','DGrossX','FGrossX','RuntimeMin','Studio','PBudget','IsProfitable'\n",
    "dfexplodeexplore = dfexplode[['Profit','Pop','Genres','AvRating','WWGross', 'RelYear',\n",
    "                                'RuntimeMin','IsProfitable', 'PBudget']]\n",
    "dfexplodeexplore"
   ]
  },
  {
   "cell_type": "code",
   "execution_count": null,
   "metadata": {
    "scrolled": false
   },
   "outputs": [],
   "source": [
    "sns.pairplot(dfexplodeexplore, hue='IsProfitable', plot_kws={'alpha':0.3}, palette={True:'lightblue',False:'darkred'})"
   ]
  },
  {
   "cell_type": "markdown",
   "metadata": {},
   "source": [
    "## Just looking at negative profit"
   ]
  },
  {
   "cell_type": "code",
   "execution_count": null,
   "metadata": {},
   "outputs": [],
   "source": [
    "negprofit = dfexplode[dfexplode['Profit'] < 0]\n",
    "negprofit.head()"
   ]
  },
  {
   "cell_type": "code",
   "execution_count": null,
   "metadata": {},
   "outputs": [],
   "source": [
    "negprofitexplore = negprofit[['Profit','Pop','WWGross','AvRating', 'Genres',\n",
    "                                'DGrossX','FGrossX','RuntimeMin','Studio','PBudget']]"
   ]
  },
  {
   "cell_type": "code",
   "execution_count": null,
   "metadata": {},
   "outputs": [],
   "source": [
    "sns.pairplot(negprofitexplore)"
   ]
  },
  {
   "cell_type": "markdown",
   "metadata": {},
   "source": [
    "## Looking at Genres"
   ]
  },
  {
   "cell_type": "code",
   "execution_count": null,
   "metadata": {},
   "outputs": [],
   "source": [
    "(dfexplode[df['Genres'].str.contains('Thriller')]).sort_values(by='Profit').tail(30)"
   ]
  },
  {
   "cell_type": "code",
   "execution_count": null,
   "metadata": {
    "scrolled": true
   },
   "outputs": [],
   "source": [
    "x = dfexplodeexplore['Genres'].value_counts()\n",
    "y = x[x > 20].index.tolist()\n",
    "dfexplodeexploregenres = dfexplodeexplore[dfexplodeexplore['Genres'].isin(y)]\n",
    "dfexplodeexploregenres.head(1)"
   ]
  },
  {
   "cell_type": "code",
   "execution_count": null,
   "metadata": {},
   "outputs": [],
   "source": [
    "negprofitexploregenres = dfexplodeexploregenres[dfexplodeexploregenres['Profit'] < 0]\n",
    "negprofitexploregenres.shape"
   ]
  },
  {
   "cell_type": "code",
   "execution_count": null,
   "metadata": {},
   "outputs": [],
   "source": [
    "print(dfexplodeexplore['Genres'].value_counts())"
   ]
  },
  {
   "cell_type": "code",
   "execution_count": null,
   "metadata": {},
   "outputs": [],
   "source": [
    "print(dfexplodeexploregenres['Genres'].value_counts())\n",
    "sns.catplot(data=dfexplodeexploregenres, x='Genres', y = 'Profit', kind='box', height=5, aspect=2)\n",
    "plt.xticks(rotation=90)\n",
    "plt.show()"
   ]
  },
  {
   "cell_type": "code",
   "execution_count": null,
   "metadata": {},
   "outputs": [],
   "source": [
    "columns = ['Profit','Pop','WWGross','AvRating', 'RuntimeMin']\n",
    "print(dfexplodeexploregenres['Genres'].value_counts())\n",
    "for col in columns:\n",
    "    sns.catplot(data=dfexplodeexploregenres, x='Genres', y = col, kind='box', height=5, aspect=2,)\n",
    "    plt.xticks(rotation=90)\n",
    "    plt.show()"
   ]
  },
  {
   "cell_type": "code",
   "execution_count": null,
   "metadata": {},
   "outputs": [],
   "source": [
    "dfexplodeexplore.shape"
   ]
  },
  {
   "cell_type": "code",
   "execution_count": null,
   "metadata": {},
   "outputs": [],
   "source": [
    "columns = ['Profit','Pop','WWGross','AvRating', 'RuntimeMin','Studio']\n",
    "print(negprofitexploregenres['Genres'].value_counts())\n",
    "for col in columns:\n",
    "    sns.catplot(data=negprofitexploregenres, x='Genres', y = col, kind='strip', height=5, aspect=2)\n",
    "    plt.xticks(rotation=90)\n",
    "    plt.show()"
   ]
  },
  {
   "cell_type": "markdown",
   "metadata": {},
   "source": [
    "## Lets make these graphs a bit more pretty"
   ]
  },
  {
   "cell_type": "code",
   "execution_count": null,
   "metadata": {},
   "outputs": [],
   "source": [
    "pbg = dfexplodeexploregenres.groupby('Genres')['Profit'].median().sort_values(ascending=False)\n",
    "dfexplodeexploregenres['Genres'] = pd.Categorical(dfexplodeexploregenres['Genres'], categories=pbg.index, ordered=True)\n",
    "pbg"
   ]
  },
  {
   "cell_type": "code",
   "execution_count": null,
   "metadata": {},
   "outputs": [],
   "source": [
    "dfexplodeexploregenres.groupby('Genres')['Profit'].mean().sort_values(ascending=False)\n"
   ]
  },
  {
   "cell_type": "code",
   "execution_count": null,
   "metadata": {
    "scrolled": true
   },
   "outputs": [],
   "source": [
    "pbg2 = negprofitexploregenres.groupby('Genres')['Profit'].median().sort_values()\n",
    "negprofitexploregenres['Genres'] = pd.Categorical(negprofitexploregenres['Genres'], categories=pbg2.index, ordered=True)\n",
    "pbg2"
   ]
  },
  {
   "cell_type": "code",
   "execution_count": null,
   "metadata": {},
   "outputs": [],
   "source": [
    "sns.set_theme(style='whitegrid')"
   ]
  },
  {
   "cell_type": "code",
   "execution_count": null,
   "metadata": {
    "scrolled": false
   },
   "outputs": [],
   "source": [
    "print(dfexplodeexploregenres['Genres'].value_counts())\n",
    "sns.catplot(data=dfexplodeexploregenres, x='Genres', y = 'Profit', kind='box', height=5, aspect=2, palette='viridis')\n",
    "plt.xticks(rotation=90)\n",
    "plt.title('Best Performing Genres by Profit')\n",
    "plt.show()"
   ]
  },
  {
   "cell_type": "code",
   "execution_count": null,
   "metadata": {},
   "outputs": [],
   "source": [
    "print(negprofitexploregenres['Genres'].value_counts())\n",
    "sns.catplot(data=negprofitexploregenres, x='Genres', y = 'Profit', kind='swarm', height=5, aspect=2)\n",
    "plt.title('Unprofitable Genres')\n",
    "plt.xticks(rotation=90)\n",
    "plt.show()"
   ]
  },
  {
   "cell_type": "markdown",
   "metadata": {},
   "source": [
    "# Creating a Graph that tests the Proportionality between Profitable Films and Unprofitable Films by Genre"
   ]
  },
  {
   "cell_type": "code",
   "execution_count": null,
   "metadata": {},
   "outputs": [],
   "source": [
    "#percent of IsProfitable False / IsProfitable.valuecount"
   ]
  },
  {
   "cell_type": "code",
   "execution_count": null,
   "metadata": {},
   "outputs": [],
   "source": [
    "dfexplodeexploregenres.groupby('Genres')['IsProfitable'].count()"
   ]
  },
  {
   "cell_type": "code",
   "execution_count": null,
   "metadata": {},
   "outputs": [],
   "source": [
    "x = dfexplodeexplore['Genres'].value_counts()"
   ]
  },
  {
   "cell_type": "code",
   "execution_count": null,
   "metadata": {
    "scrolled": false
   },
   "outputs": [],
   "source": [
    "\n",
    "x = dfexplodeexploregenres.groupby('Genres')['IsProfitable'].count().sort_values(ascending=False)\n",
    "y = dfexplodeexploregenres.groupby('Genres')['IsProfitable'].sum().sort_values(ascending=False)\n",
    "z = (x-y)/x\n",
    "percentprofit = z.reset_index()\n",
    "percentprofit.columns = ['Genre', 'PercentNotProfitable']\n",
    "percentprofit['PercentNotProfitable'] = percentprofit['PercentNotProfitable'] * 100\n",
    "percentprofit = percentprofit.sort_values(by='PercentNotProfitable', ascending=False)\n",
    "percentprofit"
   ]
  },
  {
   "cell_type": "code",
   "execution_count": null,
   "metadata": {
    "scrolled": false
   },
   "outputs": [],
   "source": [
    "fig, ax =plt.subplots(figsize=(16, 10))\n",
    "sns.barplot(data=percentprofit, x='Genre', y='PercentNotProfitable', order=percentprofit['Genre'], palette='viridis',ax=ax)\n",
    "print(dfexplodeexploregenres.groupby('Genres')['IsProfitable'].count())\n",
    "ax.set_title('Percent of Financially Draining Films by Genre')\n",
    "plt.xticks(rotation=90)\n",
    "plt.show()"
   ]
  },
  {
   "cell_type": "code",
   "execution_count": null,
   "metadata": {
    "scrolled": true
   },
   "outputs": [],
   "source": [
    "dfexplodeexploregenres"
   ]
  }
 ],
 "metadata": {
  "kernelspec": {
   "display_name": "Python (learn-env)",
   "language": "python",
   "name": "learn-env"
  },
  "language_info": {
   "codemirror_mode": {
    "name": "ipython",
    "version": 3
   },
   "file_extension": ".py",
   "mimetype": "text/x-python",
   "name": "python",
   "nbconvert_exporter": "python",
   "pygments_lexer": "ipython3",
   "version": "3.8.5"
  }
 },
 "nbformat": 4,
 "nbformat_minor": 4
}
